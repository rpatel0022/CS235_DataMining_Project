{
  "nbformat": 4,
  "nbformat_minor": 0,
  "metadata": {
    "colab": {
      "provenance": [],
      "collapsed_sections": [
        "EcZtg0Cdllnt",
        "3DdD0iEQ03Xh",
        "m_jtjk-V1K2U",
        "g7P0C8Pkz5Ps",
        "dXyvnS7P_dSI",
        "SODy2as1AqxQ",
        "YGHRja8cuuRE",
        "yqK0YZRKwfsF",
        "DZBNE4s1wwng",
        "SbPpGxO0xOHe"
      ],
      "include_colab_link": true
    },
    "kernelspec": {
      "name": "python3",
      "display_name": "Python 3"
    },
    "language_info": {
      "name": "python"
    }
  },
  "cells": [
    {
      "cell_type": "markdown",
      "metadata": {
        "id": "view-in-github",
        "colab_type": "text"
      },
      "source": [
        "<a href=\"https://colab.research.google.com/github/rpatel0022/CS235_DataMining_Project/blob/main/%5BCS235F25%5D_Course_Project.ipynb\" target=\"_parent\"><img src=\"https://colab.research.google.com/assets/colab-badge.svg\" alt=\"Open In Colab\"/></a>"
      ]
    },
    {
      "cell_type": "markdown",
      "source": [
        "# CS235 Fall 2025 Course Project\n",
        "\n",
        "Name: Rushi Patel, Mahir Patel\n",
        "\n",
        "Student ID: 862385738, 862338784\n",
        "\n",
        "## Introduction\n",
        "In this project, a number of data mining techniques that we cover in this class will be implemented and applied to a real-world imbalanced\n",
        "dataset.\n",
        "\n",
        "**Dataset:** Wisconsin Breast Cancer Diagnostic dataset from the UCI data repository: https://archive.ics.uci.edu/dataset/17/breast+cancer+wisconsin+diagnostic"
      ],
      "metadata": {
        "id": "Ub7iJe60lgAD"
      }
    },
    {
      "cell_type": "markdown",
      "source": [
        "## Setup\n",
        "\n",
        "1. Create new python environment for the project\n",
        "\n",
        "- This is not necessary on Google Colab but a good practice on your local machine\n",
        "\n",
        "2. Install the required packages"
      ],
      "metadata": {
        "id": "EcZtg0Cdllnt"
      }
    },
    {
      "cell_type": "code",
      "source": [
        "!pip install ucimlrepo"
      ],
      "metadata": {
        "colab": {
          "base_uri": "https://localhost:8080/"
        },
        "id": "GAaLuColl2Ui",
        "outputId": "a55284f1-8d60-4a34-db8a-49c3e4cfcc52"
      },
      "execution_count": null,
      "outputs": [
        {
          "output_type": "stream",
          "name": "stdout",
          "text": [
            "Collecting ucimlrepo\n",
            "  Downloading ucimlrepo-0.0.7-py3-none-any.whl.metadata (5.5 kB)\n",
            "Requirement already satisfied: pandas>=1.0.0 in /usr/local/lib/python3.10/dist-packages (from ucimlrepo) (2.2.2)\n",
            "Requirement already satisfied: certifi>=2020.12.5 in /usr/local/lib/python3.10/dist-packages (from ucimlrepo) (2024.8.30)\n",
            "Requirement already satisfied: numpy>=1.22.4 in /usr/local/lib/python3.10/dist-packages (from pandas>=1.0.0->ucimlrepo) (1.26.4)\n",
            "Requirement already satisfied: python-dateutil>=2.8.2 in /usr/local/lib/python3.10/dist-packages (from pandas>=1.0.0->ucimlrepo) (2.8.2)\n",
            "Requirement already satisfied: pytz>=2020.1 in /usr/local/lib/python3.10/dist-packages (from pandas>=1.0.0->ucimlrepo) (2024.2)\n",
            "Requirement already satisfied: tzdata>=2022.7 in /usr/local/lib/python3.10/dist-packages (from pandas>=1.0.0->ucimlrepo) (2024.2)\n",
            "Requirement already satisfied: six>=1.5 in /usr/local/lib/python3.10/dist-packages (from python-dateutil>=2.8.2->pandas>=1.0.0->ucimlrepo) (1.16.0)\n",
            "Downloading ucimlrepo-0.0.7-py3-none-any.whl (8.0 kB)\n",
            "Installing collected packages: ucimlrepo\n",
            "Successfully installed ucimlrepo-0.0.7\n"
          ]
        }
      ]
    },
    {
      "cell_type": "markdown",
      "source": [
        "## Imports"
      ],
      "metadata": {
        "id": "3DdD0iEQ03Xh"
      }
    },
    {
      "cell_type": "code",
      "source": [
        "%matplotlib inline\n",
        "import matplotlib.pyplot as plt\n",
        "import seaborn as sns\n",
        "\n",
        "import itertools, collections\n",
        "import numpy as np\n",
        "import pandas as pd\n",
        "\n",
        "from ucimlrepo import fetch_ucirepo"
      ],
      "metadata": {
        "id": "R0Vy3mNg05lM"
      },
      "execution_count": null,
      "outputs": []
    },
    {
      "cell_type": "markdown",
      "source": [
        "## Load Data"
      ],
      "metadata": {
        "id": "m_jtjk-V1K2U"
      }
    },
    {
      "cell_type": "code",
      "execution_count": null,
      "metadata": {
        "colab": {
          "base_uri": "https://localhost:8080/",
          "height": 216
        },
        "id": "mMd7sXeGk44a",
        "outputId": "0411e3c7-0e18-4c7b-c694-e074906ae12b"
      },
      "outputs": [
        {
          "output_type": "error",
          "ename": "NameError",
          "evalue": "name 'fetch_ucirepo' is not defined",
          "traceback": [
            "\u001b[0;31m---------------------------------------------------------------------------\u001b[0m",
            "\u001b[0;31mNameError\u001b[0m                                 Traceback (most recent call last)",
            "\u001b[0;32m/tmp/ipython-input-2840419725.py\u001b[0m in \u001b[0;36m<cell line: 0>\u001b[0;34m()\u001b[0m\n\u001b[1;32m      1\u001b[0m \u001b[0;31m# Fetch dataset\u001b[0m\u001b[0;34m\u001b[0m\u001b[0;34m\u001b[0m\u001b[0m\n\u001b[0;32m----> 2\u001b[0;31m \u001b[0mbreast_cancer_wisconsin_diagnostic\u001b[0m \u001b[0;34m=\u001b[0m \u001b[0mfetch_ucirepo\u001b[0m\u001b[0;34m(\u001b[0m\u001b[0mid\u001b[0m\u001b[0;34m=\u001b[0m\u001b[0;36m17\u001b[0m\u001b[0;34m)\u001b[0m\u001b[0;34m\u001b[0m\u001b[0;34m\u001b[0m\u001b[0m\n\u001b[0m\u001b[1;32m      3\u001b[0m \u001b[0;34m\u001b[0m\u001b[0m\n\u001b[1;32m      4\u001b[0m \u001b[0;31m# Data (as pandas dataframes)\u001b[0m\u001b[0;34m\u001b[0m\u001b[0;34m\u001b[0m\u001b[0m\n\u001b[1;32m      5\u001b[0m \u001b[0mX\u001b[0m \u001b[0;34m=\u001b[0m \u001b[0mbreast_cancer_wisconsin_diagnostic\u001b[0m\u001b[0;34m.\u001b[0m\u001b[0mdata\u001b[0m\u001b[0;34m.\u001b[0m\u001b[0mfeatures\u001b[0m\u001b[0;34m\u001b[0m\u001b[0;34m\u001b[0m\u001b[0m\n",
            "\u001b[0;31mNameError\u001b[0m: name 'fetch_ucirepo' is not defined"
          ]
        }
      ],
      "source": [
        "# Fetch dataset\n",
        "breast_cancer_wisconsin_diagnostic = fetch_ucirepo(id=17)\n",
        "\n",
        "# Data (as pandas dataframes)\n",
        "X = breast_cancer_wisconsin_diagnostic.data.features\n",
        "y = breast_cancer_wisconsin_diagnostic.data.targets\n",
        "\n",
        "# Metadata\n",
        "print(breast_cancer_wisconsin_diagnostic.metadata)\n",
        "\n",
        "X"
      ]
    },
    {
      "cell_type": "markdown",
      "source": [
        "## Exploratory Data Analysis (EDA)"
      ],
      "metadata": {
        "id": "g7P0C8Pkz5Ps"
      }
    },
    {
      "cell_type": "markdown",
      "source": [
        "### Pairwise correlation between features"
      ],
      "metadata": {
        "id": "nEQOUTyO9Yw7"
      }
    },
    {
      "cell_type": "code",
      "source": [
        "correlation = X.corr()\n",
        "\n",
        "fig, ax = plt.subplots(1,1, figsize=(10,10))\n",
        "sns.heatmap(correlation, annot=False, mask=np.triu(correlation),\n",
        "            cmap=sns.color_palette(\"Spectral\"))\n",
        "ax.set_title(\"Pairwise correlation between features\")\n",
        "plt.show()"
      ],
      "metadata": {
        "colab": {
          "base_uri": "https://localhost:8080/",
          "height": 216
        },
        "id": "ntv1JHkwz-Pf",
        "outputId": "c36a23be-3d9f-4d81-d473-e32e51ddcd93"
      },
      "execution_count": null,
      "outputs": [
        {
          "output_type": "error",
          "ename": "NameError",
          "evalue": "name 'X' is not defined",
          "traceback": [
            "\u001b[0;31m---------------------------------------------------------------------------\u001b[0m",
            "\u001b[0;31mNameError\u001b[0m                                 Traceback (most recent call last)",
            "\u001b[0;32m/tmp/ipython-input-4261063713.py\u001b[0m in \u001b[0;36m<cell line: 0>\u001b[0;34m()\u001b[0m\n\u001b[0;32m----> 1\u001b[0;31m \u001b[0mcorrelation\u001b[0m \u001b[0;34m=\u001b[0m \u001b[0mX\u001b[0m\u001b[0;34m.\u001b[0m\u001b[0mcorr\u001b[0m\u001b[0;34m(\u001b[0m\u001b[0;34m)\u001b[0m\u001b[0;34m\u001b[0m\u001b[0;34m\u001b[0m\u001b[0m\n\u001b[0m\u001b[1;32m      2\u001b[0m \u001b[0;34m\u001b[0m\u001b[0m\n\u001b[1;32m      3\u001b[0m \u001b[0mfig\u001b[0m\u001b[0;34m,\u001b[0m \u001b[0max\u001b[0m \u001b[0;34m=\u001b[0m \u001b[0mplt\u001b[0m\u001b[0;34m.\u001b[0m\u001b[0msubplots\u001b[0m\u001b[0;34m(\u001b[0m\u001b[0;36m1\u001b[0m\u001b[0;34m,\u001b[0m\u001b[0;36m1\u001b[0m\u001b[0;34m,\u001b[0m \u001b[0mfigsize\u001b[0m\u001b[0;34m=\u001b[0m\u001b[0;34m(\u001b[0m\u001b[0;36m10\u001b[0m\u001b[0;34m,\u001b[0m\u001b[0;36m10\u001b[0m\u001b[0;34m)\u001b[0m\u001b[0;34m)\u001b[0m\u001b[0;34m\u001b[0m\u001b[0;34m\u001b[0m\u001b[0m\n\u001b[1;32m      4\u001b[0m sns.heatmap(correlation, annot=False, mask=np.triu(correlation),\n\u001b[1;32m      5\u001b[0m             cmap=sns.color_palette(\"Spectral\"))\n",
            "\u001b[0;31mNameError\u001b[0m: name 'X' is not defined"
          ]
        }
      ]
    },
    {
      "cell_type": "markdown",
      "source": [
        "### Class Counts"
      ],
      "metadata": {
        "id": "dXyvnS7P_dSI"
      }
    },
    {
      "cell_type": "code",
      "source": [
        "print(collections.Counter(y['Diagnosis']))"
      ],
      "metadata": {
        "id": "VRtmNsu1_YuS"
      },
      "execution_count": null,
      "outputs": []
    },
    {
      "cell_type": "markdown",
      "source": [
        "### Class-wise features distributions"
      ],
      "metadata": {
        "id": "SODy2as1AqxQ"
      }
    },
    {
      "cell_type": "code",
      "source": [
        "plt.figure(figsize=(10,30))\n",
        "\n",
        "for i,j in itertools.zip_longest(list(X.columns), range(len(list(X.columns)))):\n",
        "  plt.subplot(10,3,j+1)\n",
        "  sns.boxenplot(x=y['Diagnosis'], y=X[i], hue=y['Diagnosis'])\n",
        "  plt.title(i)\n",
        "  plt.xlabel('')\n",
        "  plt.subplots_adjust(hspace=.3)\n",
        "  plt.axhline(X[i].mean(), linestyle=\"dashed\", color='k', label='mean')\n",
        "  plt.legend(loc='best')"
      ],
      "metadata": {
        "id": "cTYi3uc39V8e"
      },
      "execution_count": null,
      "outputs": []
    },
    {
      "cell_type": "markdown",
      "source": [
        "# Phase 1 - Supervised Techniques"
      ],
      "metadata": {
        "id": "exQOAjAhCcPC"
      }
    },
    {
      "cell_type": "markdown",
      "source": [
        "## Q1 - Implementing simple classifiers\n",
        "\n",
        "[INSERT HERE: a brief description of how\n",
        "you went about implementing the solution to the question]"
      ],
      "metadata": {
        "id": "YGHRja8cuuRE"
      }
    },
    {
      "cell_type": "code",
      "source": [
        "# [YOUR IMPLEMENTATION CODE HERE]"
      ],
      "metadata": {
        "id": "dLt57RJDltHz"
      },
      "execution_count": null,
      "outputs": []
    },
    {
      "cell_type": "code",
      "source": [
        "# [YOUR PLOTTING CODE HERE]"
      ],
      "metadata": {
        "id": "3BNbQwjAxWgb"
      },
      "execution_count": null,
      "outputs": []
    },
    {
      "cell_type": "markdown",
      "source": [
        "## Q2 - Dimensionality reduction with the Singular Value Decomposition\n",
        "\n",
        "[INSERT HERE: a brief description of how\n",
        "you went about implementing the solution to the question]"
      ],
      "metadata": {
        "id": "yqK0YZRKwfsF"
      }
    },
    {
      "cell_type": "code",
      "source": [
        "# [YOUR IMPLEMENTATION CODE HERE]"
      ],
      "metadata": {
        "id": "YjoKsGbTwoBC"
      },
      "execution_count": null,
      "outputs": []
    },
    {
      "cell_type": "code",
      "source": [
        "# [YOUR PLOTTING CODE HERE]"
      ],
      "metadata": {
        "id": "EjPZ9xpLxfHm"
      },
      "execution_count": null,
      "outputs": []
    },
    {
      "cell_type": "markdown",
      "source": [
        "## Q3 - Feature selection with randomization\n",
        "\n",
        "[INSERT HERE: a brief description of how\n",
        "you went about implementing the solution to the question]"
      ],
      "metadata": {
        "id": "DZBNE4s1wwng"
      }
    },
    {
      "cell_type": "code",
      "source": [
        "# [YOUR IMPLEMENTATION CODE HERE]"
      ],
      "metadata": {
        "id": "YUg2lSlnxg5U"
      },
      "execution_count": null,
      "outputs": []
    },
    {
      "cell_type": "code",
      "source": [
        "# [YOUR PLOTTING CODE HERE]"
      ],
      "metadata": {
        "id": "eBFN0JFBxLym"
      },
      "execution_count": null,
      "outputs": []
    },
    {
      "cell_type": "markdown",
      "source": [
        "## Q4 - Data augmentation using SMOTE"
      ],
      "metadata": {
        "id": "SbPpGxO0xOHe"
      }
    },
    {
      "cell_type": "code",
      "source": [
        "# [YOUR IMPLEMENTATION CODE HERE]"
      ],
      "metadata": {
        "id": "42dLygSUyE2o"
      },
      "execution_count": null,
      "outputs": []
    },
    {
      "cell_type": "code",
      "source": [
        "# [YOUR PLOTTING CODE HERE]"
      ],
      "metadata": {
        "id": "OrijooRcyHWv"
      },
      "execution_count": null,
      "outputs": []
    }
  ]
}